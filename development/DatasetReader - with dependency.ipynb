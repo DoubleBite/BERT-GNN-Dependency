{
 "cells": [
  {
   "cell_type": "code",
   "execution_count": 1,
   "metadata": {},
   "outputs": [],
   "source": [
    "%load_ext autoreload\n",
    "%autoreload 2\n",
    "%load_ext autotime\n",
    "\n",
    "import sys\n",
    "sys.path.append(\"..\")\n",
    "\n",
    "from tqdm import tqdm\n",
    "from libs import SSQADependencyReader"
   ]
  },
  {
   "cell_type": "code",
   "execution_count": 2,
   "metadata": {},
   "outputs": [
    {
     "name": "stdout",
     "output_type": "stream",
     "text": [
      "time: 3.59 s\n"
     ]
    }
   ],
   "source": [
    "reader = SSQADependencyReader(\"bert-base-chinese\")"
   ]
  },
  {
   "cell_type": "code",
   "execution_count": 3,
   "metadata": {},
   "outputs": [
    {
     "data": {
      "application/vnd.jupyter.widget-view+json": {
       "model_id": "4e671fe4ce064ee6a66df866cd055f28",
       "version_major": 2,
       "version_minor": 0
      },
      "text/plain": [
       "HBox(children=(FloatProgress(value=1.0, bar_style='info', description='reading instances', max=1.0, style=Prog…"
      ]
     },
     "metadata": {},
     "output_type": "display_data"
    },
    {
     "name": "stdout",
     "output_type": "stream",
     "text": [
      "time: 943 ms\n"
     ]
    },
    {
     "name": "stderr",
     "output_type": "stream",
     "text": [
      "\n"
     ]
    }
   ],
   "source": [
    "dataset_path = \"../data/ssqa_multiple_choice_with_dependency/test.json\"\n",
    "dataset = reader.read(dataset_path)"
   ]
  },
  {
   "cell_type": "code",
   "execution_count": 4,
   "metadata": {},
   "outputs": [
    {
     "name": "stdout",
     "output_type": "stream",
     "text": [
      "0 Instance with fields:\n",
      " \t question_with_context: TextField of length 47 with text: \n",
      " \t\t[[CLS], root, 班级, 公约, 在, 何时, 决定, ？, [SEP], root, 班级, 自治, 就, 是, 透过, 班会, ，, 订定, 班级, 公约, 、, 选举, 班级, 干部,\n",
      "\t\t、, 讨论, 班级, 事务, 、, 安排, 班级, 活动, ，, 学习, 自己, 管理, 班级, 事务, ，, 让, 班级, 表现, 得, 更, 好, 。, [SEP]]\n",
      " \t\tand TokenIndexers : {'tokens': 'PretrainedTransformerMismatchedIndexer'} \n",
      " \t edges: AdjacencyField of length 47\n",
      "\t\twith indices:\n",
      " \t\t[(1, 6), (3, 2), (5, 4), (6, 3), (6, 5), (6, 7), (9, 17), (11, 10), (15, 14), (17, 11), (17, 12),\n",
      "\t\t(17, 13), (17, 15), (17, 16), (17, 18), (18, 23), (23, 19), (23, 20), (23, 21), (23, 22), (23, 24),\n",
      "\t\t(24, 25), (25, 27), (25, 28), (25, 29), (25, 32), (25, 33), (25, 38), (25, 39), (25, 45), (27, 26),\n",
      "\t\t(29, 31), (31, 30), (33, 35), (35, 34), (35, 37), (37, 36), (39, 40), (39, 44), (44, 41), (44, 42),\n",
      "\t\t(44, 43)]\n",
      "\n",
      "\t\tand labels:\n",
      " \t\t['ROOT', 'compound:nn', 'case', 'nsubj', 'nmod:prep', 'punct', 'ROOT', 'compound:nn', 'case',\n",
      "\t\t'nsubj', 'advmod', 'cop', 'nmod:prep', 'punct', 'ccomp', 'dobj', 'conj', 'punct', 'compound:nn',\n",
      "\t\t'compound:nn', 'parataxis:prnmod', 'dep', 'dobj', 'punct', 'conj', 'punct', 'conj', 'punct', 'conj',\n",
      "\t\t'punct', 'compound:nn', 'dobj', 'compound:nn', 'ccomp', 'nsubj', 'dobj', 'compound:nn', 'dobj',\n",
      "\t\t'ccomp', 'dep', 'dep', 'advmod']\n",
      " \t\tin namespace: 'labels'. \n",
      " \t cross_edges: AdjacencyField of length 47\n",
      "\t\twith indices:\n",
      " \t\t[(1, 9), (1, 10), (1, 11), (1, 12), (1, 13), (1, 14), (1, 15), (1, 16), (1, 17), (1, 18), (1, 19),\n",
      "\t\t(1, 20), (1, 21), (1, 22), (1, 23), (1, 24), (1, 25), (1, 26), (1, 27), (1, 28), (1, 29), (1, 30),\n",
      "\t\t(1, 31), (1, 32), (1, 33), (1, 34), (1, 35), (1, 36), (1, 37), (1, 38), (1, 39), (1, 40), (1, 41),\n",
      "\t\t(1, 42), (1, 43), (1, 44), (1, 45), (2, 9), (2, 10), (2, 11), (2, 12), (2, 13), (2, 14), (2, 15),\n",
      "\t\t(2, 16), (2, 17), (2, 18), (2, 19), (2, 20), (2, 21), (2, 22), (2, 23), (2, 24), (2, 25), (2, 26),\n",
      "\t\t(2, 27), (2, 28), (2, 29), (2, 30), (2, 31), (2, 32), (2, 33), (2, 34), (2, 35), (2, 36), (2, 37),\n",
      "\t\t(2, 38), (2, 39), (2, 40), (2, 41), (2, 42), (2, 43), (2, 44), (2, 45), (3, 9), (3, 10), (3, 11),\n",
      "\t\t(3, 12), (3, 13), (3, 14), (3, 15), (3, 16), (3, 17), (3, 18), (3, 19), (3, 20), (3, 21), (3, 22),\n",
      "\t\t(3, 23), (3, 24), (3, 25), (3, 26), (3, 27), (3, 28), (3, 29), (3, 30), (3, 31), (3, 32), (3, 33),\n",
      "\t\t(3, 34), (3, 35), (3, 36), (3, 37), (3, 38), (3, 39), (3, 40), (3, 41), (3, 42), (3, 43), (3, 44),\n",
      "\t\t(3, 45), (4, 9), (4, 10), (4, 11), (4, 12), (4, 13), (4, 14), (4, 15), (4, 16), (4, 17), (4, 18),\n",
      "\t\t(4, 19), (4, 20), (4, 21), (4, 22), (4, 23), (4, 24), (4, 25), (4, 26), (4, 27), (4, 28), (4, 29),\n",
      "\t\t(4, 30), (4, 31), (4, 32), (4, 33), (4, 34), (4, 35), (4, 36), (4, 37), (4, 38), (4, 39), (4, 40),\n",
      "\t\t(4, 41), (4, 42), (4, 43), (4, 44), (4, 45), (5, 9), (5, 10), (5, 11), (5, 12), (5, 13), (5, 14),\n",
      "\t\t(5, 15), (5, 16), (5, 17), (5, 18), (5, 19), (5, 20), (5, 21), (5, 22), (5, 23), (5, 24), (5, 25),\n",
      "\t\t(5, 26), (5, 27), (5, 28), (5, 29), (5, 30), (5, 31), (5, 32), (5, 33), (5, 34), (5, 35), (5, 36),\n",
      "\t\t(5, 37), (5, 38), (5, 39), (5, 40), (5, 41), (5, 42), (5, 43), (5, 44), (5, 45), (6, 9), (6, 10),\n",
      "\t\t(6, 11), (6, 12), (6, 13), (6, 14), (6, 15), (6, 16), (6, 17), (6, 18), (6, 19), (6, 20), (6, 21),\n",
      "\t\t(6, 22), (6, 23), (6, 24), (6, 25), (6, 26), (6, 27), (6, 28), (6, 29), (6, 30), (6, 31), (6, 32),\n",
      "\t\t(6, 33), (6, 34), (6, 35), (6, 36), (6, 37), (6, 38), (6, 39), (6, 40), (6, 41), (6, 42), (6, 43),\n",
      "\t\t(6, 44), (6, 45), (7, 9), (7, 10), (7, 11), (7, 12), (7, 13), (7, 14), (7, 15), (7, 16), (7, 17),\n",
      "\t\t(7, 18), (7, 19), (7, 20), (7, 21), (7, 22), (7, 23), (7, 24), (7, 25), (7, 26), (7, 27), (7, 28),\n",
      "\t\t(7, 29), (7, 30), (7, 31), (7, 32), (7, 33), (7, 34), (7, 35), (7, 36), (7, 37), (7, 38), (7, 39),\n",
      "\t\t(7, 40), (7, 41), (7, 42), (7, 43), (7, 44), (7, 45)]\n",
      "\n",
      "\t\tand labels:\n",
      " \t\t['cross', 'cross', 'cross', 'cross', 'cross', 'cross', 'cross', 'cross', 'cross', 'cross', 'cross',\n",
      "\t\t'cross', 'cross', 'cross', 'cross', 'cross', 'cross', 'cross', 'cross', 'cross', 'cross', 'cross',\n",
      "\t\t'cross', 'cross', 'cross', 'cross', 'cross', 'cross', 'cross', 'cross', 'cross', 'cross', 'cross',\n",
      "\t\t'cross', 'cross', 'cross', 'cross', 'cross', 'cross', 'cross', 'cross', 'cross', 'cross', 'cross',\n",
      "\t\t'cross', 'cross', 'cross', 'cross', 'cross', 'cross', 'cross', 'cross', 'cross', 'cross', 'cross',\n",
      "\t\t'cross', 'cross', 'cross', 'cross', 'cross', 'cross', 'cross', 'cross', 'cross', 'cross', 'cross',\n",
      "\t\t'cross', 'cross', 'cross', 'cross', 'cross', 'cross', 'cross', 'cross', 'cross', 'cross', 'cross',\n",
      "\t\t'cross', 'cross', 'cross', 'cross', 'cross', 'cross', 'cross', 'cross', 'cross', 'cross', 'cross',\n",
      "\t\t'cross', 'cross', 'cross', 'cross', 'cross', 'cross', 'cross', 'cross', 'cross', 'cross', 'cross',\n",
      "\t\t'cross', 'cross', 'cross', 'cross', 'cross', 'cross', 'cross', 'cross', 'cross', 'cross', 'cross',\n",
      "\t\t'cross', 'cross', 'cross', 'cross', 'cross', 'cross', 'cross', 'cross', 'cross', 'cross', 'cross',\n",
      "\t\t'cross', 'cross', 'cross', 'cross', 'cross', 'cross', 'cross', 'cross', 'cross', 'cross', 'cross',\n",
      "\t\t'cross', 'cross', 'cross', 'cross', 'cross', 'cross', 'cross', 'cross', 'cross', 'cross', 'cross',\n",
      "\t\t'cross', 'cross', 'cross', 'cross', 'cross', 'cross', 'cross', 'cross', 'cross', 'cross', 'cross',\n",
      "\t\t'cross', 'cross', 'cross', 'cross', 'cross', 'cross', 'cross', 'cross', 'cross', 'cross', 'cross',\n",
      "\t\t'cross', 'cross', 'cross', 'cross', 'cross', 'cross', 'cross', 'cross', 'cross', 'cross', 'cross',\n",
      "\t\t'cross', 'cross', 'cross', 'cross', 'cross', 'cross', 'cross', 'cross', 'cross', 'cross', 'cross',\n",
      "\t\t'cross', 'cross', 'cross', 'cross', 'cross', 'cross', 'cross', 'cross', 'cross', 'cross', 'cross',\n",
      "\t\t'cross', 'cross', 'cross', 'cross', 'cross', 'cross', 'cross', 'cross', 'cross', 'cross', 'cross',\n",
      "\t\t'cross', 'cross', 'cross', 'cross', 'cross', 'cross', 'cross', 'cross', 'cross', 'cross', 'cross',\n",
      "\t\t'cross', 'cross', 'cross', 'cross', 'cross', 'cross', 'cross', 'cross', 'cross', 'cross', 'cross',\n",
      "\t\t'cross', 'cross', 'cross', 'cross', 'cross', 'cross', 'cross', 'cross', 'cross', 'cross', 'cross',\n",
      "\t\t'cross', 'cross', 'cross', 'cross', 'cross', 'cross', 'cross', 'cross', 'cross', 'cross', 'cross',\n",
      "\t\t'cross', 'cross', 'cross', 'cross', 'cross', 'cross']\n",
      " \t\tin namespace: 'labels'. \n",
      " \t answer_span: SpanField with spans: (15, 15). \n",
      " \t context_span: SpanField with spans: (9, 45). \n",
      " \t metadata: MetadataField (print field.metadata to see specific information). \n",
      "\n",
      "1 Instance with fields:\n",
      " \t question_with_context: TextField of length 61 with text: \n",
      " \t\t[[CLS], root, 班级, 公约, 由, 谁, 来, 订定, ？, [SEP], root, 班级, 公约, 是, 全, 班, 同学, 共同, 订定, ，, 用以, 约束, 每个, 人, 的,\n",
      "\t\t行为, 。, root, 订定, 班级, 公约, 时, ，, 要, 考虑, 全, 班, 同学, 的, 需要, ，, 制定, 明确, 、, 公平, 且, 具体, 可行, 的, 规则, ，, 让, 全,\n",
      "\t\t班, 同学, 都, 能, 确实, 遵守, 。, [SEP]]\n",
      " \t\tand TokenIndexers : {'tokens': 'PretrainedTransformerMismatchedIndexer'} \n",
      " \t edges: AdjacencyField of length 61\n",
      "\t\twith indices:\n",
      " \t\t[(1, 7), (3, 2), (5, 4), (7, 3), (7, 5), (7, 6), (7, 8), (10, 18), (12, 11), (15, 14), (16, 15),\n",
      "\t\t(18, 12), (18, 13), (18, 16), (18, 17), (18, 19), (18, 25), (18, 26), (20, 21), (23, 20), (23, 22),\n",
      "\t\t(23, 24), (25, 23), (27, 34), (28, 30), (28, 31), (30, 29), (34, 28), (34, 32), (34, 33), (34, 39),\n",
      "\t\t(34, 40), (34, 41), (34, 50), (34, 51), (34, 59), (36, 35), (37, 36), (37, 38), (39, 37), (41, 49),\n",
      "\t\t(42, 43), (42, 44), (42, 45), (42, 46), (42, 48), (46, 47), (49, 42), (51, 54), (51, 58), (53, 52),\n",
      "\t\t(54, 53), (58, 55), (58, 56), (58, 57)]\n",
      "\n",
      "\t\tand labels:\n",
      " \t\t['ROOT', 'compound:nn', 'case', 'nsubj', 'nmod:prep', 'aux:prtmod', 'punct', 'ROOT', 'compound:nn',\n",
      "\t\t'det', 'compound:nn', 'nsubj', 'cop', 'nsubj', 'advmod', 'punct', 'dobj', 'punct', 'dobj', 'acl',\n",
      "\t\t'det', 'case', 'nmod:assmod', 'ROOT', 'dobj', 'case', 'compound:nn', 'advcl:loc', 'punct', 'xcomp',\n",
      "\t\t'dobj', 'punct', 'conj', 'punct', 'conj', 'punct', 'det', 'compound:nn', 'case', 'nmod:assmod',\n",
      "\t\t'dobj', 'punct', 'conj', 'cc', 'conj', 'mark', 'compound:vc', 'amod', 'dobj', 'ccomp', 'det',\n",
      "\t\t'compound:nn', 'advmod', 'aux:modal', 'advmod']\n",
      " \t\tin namespace: 'labels'. \n",
      " \t cross_edges: AdjacencyField of length 61\n",
      "\t\twith indices:\n",
      " \t\t[(1, 10), (1, 11), (1, 12), (1, 13), (1, 14), (1, 15), (1, 16), (1, 17), (1, 18), (1, 19), (1, 20),\n",
      "\t\t(1, 21), (1, 22), (1, 23), (1, 24), (1, 25), (1, 26), (1, 27), (1, 28), (1, 29), (1, 30), (1, 31),\n",
      "\t\t(1, 32), (1, 33), (1, 34), (1, 35), (1, 36), (1, 37), (1, 38), (1, 39), (1, 40), (1, 41), (1, 42),\n",
      "\t\t(1, 43), (1, 44), (1, 45), (1, 46), (1, 47), (1, 48), (1, 49), (1, 50), (1, 51), (1, 52), (1, 53),\n",
      "\t\t(1, 54), (1, 55), (1, 56), (1, 57), (1, 58), (1, 59), (2, 10), (2, 11), (2, 12), (2, 13), (2, 14),\n",
      "\t\t(2, 15), (2, 16), (2, 17), (2, 18), (2, 19), (2, 20), (2, 21), (2, 22), (2, 23), (2, 24), (2, 25),\n",
      "\t\t(2, 26), (2, 27), (2, 28), (2, 29), (2, 30), (2, 31), (2, 32), (2, 33), (2, 34), (2, 35), (2, 36),\n",
      "\t\t(2, 37), (2, 38), (2, 39), (2, 40), (2, 41), (2, 42), (2, 43), (2, 44), (2, 45), (2, 46), (2, 47),\n",
      "\t\t(2, 48), (2, 49), (2, 50), (2, 51), (2, 52), (2, 53), (2, 54), (2, 55), (2, 56), (2, 57), (2, 58),\n",
      "\t\t(2, 59), (3, 10), (3, 11), (3, 12), (3, 13), (3, 14), (3, 15), (3, 16), (3, 17), (3, 18), (3, 19),\n",
      "\t\t(3, 20), (3, 21), (3, 22), (3, 23), (3, 24), (3, 25), (3, 26), (3, 27), (3, 28), (3, 29), (3, 30),\n",
      "\t\t(3, 31), (3, 32), (3, 33), (3, 34), (3, 35), (3, 36), (3, 37), (3, 38), (3, 39), (3, 40), (3, 41),\n",
      "\t\t(3, 42), (3, 43), (3, 44), (3, 45), (3, 46), (3, 47), (3, 48), (3, 49), (3, 50), (3, 51), (3, 52),\n",
      "\t\t(3, 53), (3, 54), (3, 55), (3, 56), (3, 57), (3, 58), (3, 59), (4, 10), (4, 11), (4, 12), (4, 13),\n",
      "\t\t(4, 14), (4, 15), (4, 16), (4, 17), (4, 18), (4, 19), (4, 20), (4, 21), (4, 22), (4, 23), (4, 24),\n",
      "\t\t(4, 25), (4, 26), (4, 27), (4, 28), (4, 29), (4, 30), (4, 31), (4, 32), (4, 33), (4, 34), (4, 35),\n",
      "\t\t(4, 36), (4, 37), (4, 38), (4, 39), (4, 40), (4, 41), (4, 42), (4, 43), (4, 44), (4, 45), (4, 46),\n",
      "\t\t(4, 47), (4, 48), (4, 49), (4, 50), (4, 51), (4, 52), (4, 53), (4, 54), (4, 55), (4, 56), (4, 57),\n",
      "\t\t(4, 58), (4, 59), (5, 10), (5, 11), (5, 12), (5, 13), (5, 14), (5, 15), (5, 16), (5, 17), (5, 18),\n",
      "\t\t(5, 19), (5, 20), (5, 21), (5, 22), (5, 23), (5, 24), (5, 25), (5, 26), (5, 27), (5, 28), (5, 29),\n",
      "\t\t(5, 30), (5, 31), (5, 32), (5, 33), (5, 34), (5, 35), (5, 36), (5, 37), (5, 38), (5, 39), (5, 40),\n",
      "\t\t(5, 41), (5, 42), (5, 43), (5, 44), (5, 45), (5, 46), (5, 47), (5, 48), (5, 49), (5, 50), (5, 51),\n",
      "\t\t(5, 52), (5, 53), (5, 54), (5, 55), (5, 56), (5, 57), (5, 58), (5, 59), (6, 10), (6, 11), (6, 12),\n",
      "\t\t(6, 13), (6, 14), (6, 15), (6, 16), (6, 17), (6, 18), (6, 19), (6, 20), (6, 21), (6, 22), (6, 23),\n",
      "\t\t(6, 24), (6, 25), (6, 26), (6, 27), (6, 28), (6, 29), (6, 30), (6, 31), (6, 32), (6, 33), (6, 34),\n",
      "\t\t(6, 35), (6, 36), (6, 37), (6, 38), (6, 39), (6, 40), (6, 41), (6, 42), (6, 43), (6, 44), (6, 45),\n",
      "\t\t(6, 46), (6, 47), (6, 48), (6, 49), (6, 50), (6, 51), (6, 52), (6, 53), (6, 54), (6, 55), (6, 56),\n",
      "\t\t(6, 57), (6, 58), (6, 59), (7, 10), (7, 11), (7, 12), (7, 13), (7, 14), (7, 15), (7, 16), (7, 17),\n",
      "\t\t(7, 18), (7, 19), (7, 20), (7, 21), (7, 22), (7, 23), (7, 24), (7, 25), (7, 26), (7, 27), (7, 28),\n",
      "\t\t(7, 29), (7, 30), (7, 31), (7, 32), (7, 33), (7, 34), (7, 35), (7, 36), (7, 37), (7, 38), (7, 39),\n",
      "\t\t(7, 40), (7, 41), (7, 42), (7, 43), (7, 44), (7, 45), (7, 46), (7, 47), (7, 48), (7, 49), (7, 50),\n",
      "\t\t(7, 51), (7, 52), (7, 53), (7, 54), (7, 55), (7, 56), (7, 57), (7, 58), (7, 59), (8, 10), (8, 11),\n",
      "\t\t(8, 12), (8, 13), (8, 14), (8, 15), (8, 16), (8, 17), (8, 18), (8, 19), (8, 20), (8, 21), (8, 22),\n",
      "\t\t(8, 23), (8, 24), (8, 25), (8, 26), (8, 27), (8, 28), (8, 29), (8, 30), (8, 31), (8, 32), (8, 33),\n",
      "\t\t(8, 34), (8, 35), (8, 36), (8, 37), (8, 38), (8, 39), (8, 40), (8, 41), (8, 42), (8, 43), (8, 44),\n",
      "\t\t(8, 45), (8, 46), (8, 47), (8, 48), (8, 49), (8, 50), (8, 51), (8, 52), (8, 53), (8, 54), (8, 55),\n",
      "\t\t(8, 56), (8, 57), (8, 58), (8, 59)]\n",
      "\n",
      "\t\tand labels:\n",
      " \t\t['cross', 'cross', 'cross', 'cross', 'cross', 'cross', 'cross', 'cross', 'cross', 'cross', 'cross',\n",
      "\t\t'cross', 'cross', 'cross', 'cross', 'cross', 'cross', 'cross', 'cross', 'cross', 'cross', 'cross',\n",
      "\t\t'cross', 'cross', 'cross', 'cross', 'cross', 'cross', 'cross', 'cross', 'cross', 'cross', 'cross',\n",
      "\t\t'cross', 'cross', 'cross', 'cross', 'cross', 'cross', 'cross', 'cross', 'cross', 'cross', 'cross',\n",
      "\t\t'cross', 'cross', 'cross', 'cross', 'cross', 'cross', 'cross', 'cross', 'cross', 'cross', 'cross',\n",
      "\t\t'cross', 'cross', 'cross', 'cross', 'cross', 'cross', 'cross', 'cross', 'cross', 'cross', 'cross',\n",
      "\t\t'cross', 'cross', 'cross', 'cross', 'cross', 'cross', 'cross', 'cross', 'cross', 'cross', 'cross',\n",
      "\t\t'cross', 'cross', 'cross', 'cross', 'cross', 'cross', 'cross', 'cross', 'cross', 'cross', 'cross',\n",
      "\t\t'cross', 'cross', 'cross', 'cross', 'cross', 'cross', 'cross', 'cross', 'cross', 'cross', 'cross',\n",
      "\t\t'cross', 'cross', 'cross', 'cross', 'cross', 'cross', 'cross', 'cross', 'cross', 'cross', 'cross',\n",
      "\t\t'cross', 'cross', 'cross', 'cross', 'cross', 'cross', 'cross', 'cross', 'cross', 'cross', 'cross',\n",
      "\t\t'cross', 'cross', 'cross', 'cross', 'cross', 'cross', 'cross', 'cross', 'cross', 'cross', 'cross',\n",
      "\t\t'cross', 'cross', 'cross', 'cross', 'cross', 'cross', 'cross', 'cross', 'cross', 'cross', 'cross',\n",
      "\t\t'cross', 'cross', 'cross', 'cross', 'cross', 'cross', 'cross', 'cross', 'cross', 'cross', 'cross',\n",
      "\t\t'cross', 'cross', 'cross', 'cross', 'cross', 'cross', 'cross', 'cross', 'cross', 'cross', 'cross',\n",
      "\t\t'cross', 'cross', 'cross', 'cross', 'cross', 'cross', 'cross', 'cross', 'cross', 'cross', 'cross',\n",
      "\t\t'cross', 'cross', 'cross', 'cross', 'cross', 'cross', 'cross', 'cross', 'cross', 'cross', 'cross',\n",
      "\t\t'cross', 'cross', 'cross', 'cross', 'cross', 'cross', 'cross', 'cross', 'cross', 'cross', 'cross',\n",
      "\t\t'cross', 'cross', 'cross', 'cross', 'cross', 'cross', 'cross', 'cross', 'cross', 'cross', 'cross',\n",
      "\t\t'cross', 'cross', 'cross', 'cross', 'cross', 'cross', 'cross', 'cross', 'cross', 'cross', 'cross',\n",
      "\t\t'cross', 'cross', 'cross', 'cross', 'cross', 'cross', 'cross', 'cross', 'cross', 'cross', 'cross',\n",
      "\t\t'cross', 'cross', 'cross', 'cross', 'cross', 'cross', 'cross', 'cross', 'cross', 'cross', 'cross',\n",
      "\t\t'cross', 'cross', 'cross', 'cross', 'cross', 'cross', 'cross', 'cross', 'cross', 'cross', 'cross',\n",
      "\t\t'cross', 'cross', 'cross', 'cross', 'cross', 'cross', 'cross', 'cross', 'cross', 'cross', 'cross',\n",
      "\t\t'cross', 'cross', 'cross', 'cross', 'cross', 'cross', 'cross', 'cross', 'cross', 'cross', 'cross',\n",
      "\t\t'cross', 'cross', 'cross', 'cross', 'cross', 'cross', 'cross', 'cross', 'cross', 'cross', 'cross',\n",
      "\t\t'cross', 'cross', 'cross', 'cross', 'cross', 'cross', 'cross', 'cross', 'cross', 'cross', 'cross',\n",
      "\t\t'cross', 'cross', 'cross', 'cross', 'cross', 'cross', 'cross', 'cross', 'cross', 'cross', 'cross',\n",
      "\t\t'cross', 'cross', 'cross', 'cross', 'cross', 'cross', 'cross', 'cross', 'cross', 'cross', 'cross',\n",
      "\t\t'cross', 'cross', 'cross', 'cross', 'cross', 'cross', 'cross', 'cross', 'cross', 'cross', 'cross',\n",
      "\t\t'cross', 'cross', 'cross', 'cross', 'cross', 'cross', 'cross', 'cross', 'cross', 'cross', 'cross',\n",
      "\t\t'cross', 'cross', 'cross', 'cross', 'cross', 'cross', 'cross', 'cross', 'cross', 'cross', 'cross',\n",
      "\t\t'cross', 'cross', 'cross', 'cross', 'cross', 'cross', 'cross', 'cross', 'cross', 'cross', 'cross',\n",
      "\t\t'cross', 'cross', 'cross', 'cross', 'cross', 'cross', 'cross', 'cross', 'cross', 'cross', 'cross',\n",
      "\t\t'cross', 'cross', 'cross', 'cross', 'cross', 'cross', 'cross', 'cross', 'cross', 'cross', 'cross',\n",
      "\t\t'cross', 'cross', 'cross', 'cross', 'cross', 'cross', 'cross', 'cross', 'cross', 'cross', 'cross',\n",
      "\t\t'cross', 'cross', 'cross', 'cross']\n",
      " \t\tin namespace: 'labels'. \n",
      " \t answer_span: SpanField with spans: (14, 16). \n",
      " \t context_span: SpanField with spans: (10, 59). \n",
      " \t metadata: MetadataField (print field.metadata to see specific information). \n",
      "\n",
      "2 Instance with fields:\n",
      " \t question_with_context: TextField of length 61 with text: \n",
      " \t\t[[CLS], root, 班级, 公约, 的, 功能, 是, 什么, ？, [SEP], root, 班级, 公约, 是, 全, 班, 同学, 共同, 订定, ，, 用以, 约束, 每个, 人,\n",
      "\t\t的, 行为, 。, root, 订定, 班级, 公约, 时, ，, 要, 考虑, 全, 班, 同学, 的, 需要, ，, 制定, 明确, 、, 公平, 且, 具体, 可行, 的, 规则, ，, 让,\n",
      "\t\t全, 班, 同学, 都, 能, 确实, 遵守, 。, [SEP]]\n",
      " \t\tand TokenIndexers : {'tokens': 'PretrainedTransformerMismatchedIndexer'} \n",
      " \t edges: AdjacencyField of length 61\n",
      "\t\twith indices:\n",
      " \t\t[(1, 7), (3, 2), (3, 4), (5, 3), (7, 5), (7, 6), (7, 8), (10, 18), (12, 11), (15, 14), (16, 15),\n",
      "\t\t(18, 12), (18, 13), (18, 16), (18, 17), (18, 19), (18, 25), (18, 26), (20, 21), (23, 20), (23, 22),\n",
      "\t\t(23, 24), (25, 23), (27, 34), (28, 30), (28, 31), (30, 29), (34, 28), (34, 32), (34, 33), (34, 39),\n",
      "\t\t(34, 40), (34, 41), (34, 50), (34, 51), (34, 59), (36, 35), (37, 36), (37, 38), (39, 37), (41, 49),\n",
      "\t\t(42, 43), (42, 44), (42, 45), (42, 46), (42, 48), (46, 47), (49, 42), (51, 54), (51, 58), (53, 52),\n",
      "\t\t(54, 53), (58, 55), (58, 56), (58, 57)]\n",
      "\n",
      "\t\tand labels:\n",
      " \t\t['ROOT', 'compound:nn', 'case', 'nmod:assmod', 'nsubj', 'cop', 'punct', 'ROOT', 'compound:nn',\n",
      "\t\t'det', 'compound:nn', 'nsubj', 'cop', 'nsubj', 'advmod', 'punct', 'dobj', 'punct', 'dobj', 'acl',\n",
      "\t\t'det', 'case', 'nmod:assmod', 'ROOT', 'dobj', 'case', 'compound:nn', 'advcl:loc', 'punct', 'xcomp',\n",
      "\t\t'dobj', 'punct', 'conj', 'punct', 'conj', 'punct', 'det', 'compound:nn', 'case', 'nmod:assmod',\n",
      "\t\t'dobj', 'punct', 'conj', 'cc', 'conj', 'mark', 'compound:vc', 'amod', 'dobj', 'ccomp', 'det',\n",
      "\t\t'compound:nn', 'advmod', 'aux:modal', 'advmod']\n",
      " \t\tin namespace: 'labels'. \n",
      " \t cross_edges: AdjacencyField of length 61\n",
      "\t\twith indices:\n",
      " \t\t[(1, 10), (1, 11), (1, 12), (1, 13), (1, 14), (1, 15), (1, 16), (1, 17), (1, 18), (1, 19), (1, 20),\n",
      "\t\t(1, 21), (1, 22), (1, 23), (1, 24), (1, 25), (1, 26), (1, 27), (1, 28), (1, 29), (1, 30), (1, 31),\n",
      "\t\t(1, 32), (1, 33), (1, 34), (1, 35), (1, 36), (1, 37), (1, 38), (1, 39), (1, 40), (1, 41), (1, 42),\n",
      "\t\t(1, 43), (1, 44), (1, 45), (1, 46), (1, 47), (1, 48), (1, 49), (1, 50), (1, 51), (1, 52), (1, 53),\n",
      "\t\t(1, 54), (1, 55), (1, 56), (1, 57), (1, 58), (1, 59), (2, 10), (2, 11), (2, 12), (2, 13), (2, 14),\n",
      "\t\t(2, 15), (2, 16), (2, 17), (2, 18), (2, 19), (2, 20), (2, 21), (2, 22), (2, 23), (2, 24), (2, 25),\n",
      "\t\t(2, 26), (2, 27), (2, 28), (2, 29), (2, 30), (2, 31), (2, 32), (2, 33), (2, 34), (2, 35), (2, 36),\n",
      "\t\t(2, 37), (2, 38), (2, 39), (2, 40), (2, 41), (2, 42), (2, 43), (2, 44), (2, 45), (2, 46), (2, 47),\n",
      "\t\t(2, 48), (2, 49), (2, 50), (2, 51), (2, 52), (2, 53), (2, 54), (2, 55), (2, 56), (2, 57), (2, 58),\n",
      "\t\t(2, 59), (3, 10), (3, 11), (3, 12), (3, 13), (3, 14), (3, 15), (3, 16), (3, 17), (3, 18), (3, 19),\n",
      "\t\t(3, 20), (3, 21), (3, 22), (3, 23), (3, 24), (3, 25), (3, 26), (3, 27), (3, 28), (3, 29), (3, 30),\n",
      "\t\t(3, 31), (3, 32), (3, 33), (3, 34), (3, 35), (3, 36), (3, 37), (3, 38), (3, 39), (3, 40), (3, 41),\n",
      "\t\t(3, 42), (3, 43), (3, 44), (3, 45), (3, 46), (3, 47), (3, 48), (3, 49), (3, 50), (3, 51), (3, 52),\n",
      "\t\t(3, 53), (3, 54), (3, 55), (3, 56), (3, 57), (3, 58), (3, 59), (4, 10), (4, 11), (4, 12), (4, 13),\n",
      "\t\t(4, 14), (4, 15), (4, 16), (4, 17), (4, 18), (4, 19), (4, 20), (4, 21), (4, 22), (4, 23), (4, 24),\n",
      "\t\t(4, 25), (4, 26), (4, 27), (4, 28), (4, 29), (4, 30), (4, 31), (4, 32), (4, 33), (4, 34), (4, 35),\n",
      "\t\t(4, 36), (4, 37), (4, 38), (4, 39), (4, 40), (4, 41), (4, 42), (4, 43), (4, 44), (4, 45), (4, 46),\n",
      "\t\t(4, 47), (4, 48), (4, 49), (4, 50), (4, 51), (4, 52), (4, 53), (4, 54), (4, 55), (4, 56), (4, 57),\n",
      "\t\t(4, 58), (4, 59), (5, 10), (5, 11), (5, 12), (5, 13), (5, 14), (5, 15), (5, 16), (5, 17), (5, 18),\n",
      "\t\t(5, 19), (5, 20), (5, 21), (5, 22), (5, 23), (5, 24), (5, 25), (5, 26), (5, 27), (5, 28), (5, 29),\n",
      "\t\t(5, 30), (5, 31), (5, 32), (5, 33), (5, 34), (5, 35), (5, 36), (5, 37), (5, 38), (5, 39), (5, 40),\n",
      "\t\t(5, 41), (5, 42), (5, 43), (5, 44), (5, 45), (5, 46), (5, 47), (5, 48), (5, 49), (5, 50), (5, 51),\n",
      "\t\t(5, 52), (5, 53), (5, 54), (5, 55), (5, 56), (5, 57), (5, 58), (5, 59), (6, 10), (6, 11), (6, 12),\n",
      "\t\t(6, 13), (6, 14), (6, 15), (6, 16), (6, 17), (6, 18), (6, 19), (6, 20), (6, 21), (6, 22), (6, 23),\n",
      "\t\t(6, 24), (6, 25), (6, 26), (6, 27), (6, 28), (6, 29), (6, 30), (6, 31), (6, 32), (6, 33), (6, 34),\n",
      "\t\t(6, 35), (6, 36), (6, 37), (6, 38), (6, 39), (6, 40), (6, 41), (6, 42), (6, 43), (6, 44), (6, 45),\n",
      "\t\t(6, 46), (6, 47), (6, 48), (6, 49), (6, 50), (6, 51), (6, 52), (6, 53), (6, 54), (6, 55), (6, 56),\n",
      "\t\t(6, 57), (6, 58), (6, 59), (7, 10), (7, 11), (7, 12), (7, 13), (7, 14), (7, 15), (7, 16), (7, 17),\n",
      "\t\t(7, 18), (7, 19), (7, 20), (7, 21), (7, 22), (7, 23), (7, 24), (7, 25), (7, 26), (7, 27), (7, 28),\n",
      "\t\t(7, 29), (7, 30), (7, 31), (7, 32), (7, 33), (7, 34), (7, 35), (7, 36), (7, 37), (7, 38), (7, 39),\n",
      "\t\t(7, 40), (7, 41), (7, 42), (7, 43), (7, 44), (7, 45), (7, 46), (7, 47), (7, 48), (7, 49), (7, 50),\n",
      "\t\t(7, 51), (7, 52), (7, 53), (7, 54), (7, 55), (7, 56), (7, 57), (7, 58), (7, 59), (8, 10), (8, 11),\n",
      "\t\t(8, 12), (8, 13), (8, 14), (8, 15), (8, 16), (8, 17), (8, 18), (8, 19), (8, 20), (8, 21), (8, 22),\n",
      "\t\t(8, 23), (8, 24), (8, 25), (8, 26), (8, 27), (8, 28), (8, 29), (8, 30), (8, 31), (8, 32), (8, 33),\n",
      "\t\t(8, 34), (8, 35), (8, 36), (8, 37), (8, 38), (8, 39), (8, 40), (8, 41), (8, 42), (8, 43), (8, 44),\n",
      "\t\t(8, 45), (8, 46), (8, 47), (8, 48), (8, 49), (8, 50), (8, 51), (8, 52), (8, 53), (8, 54), (8, 55),\n",
      "\t\t(8, 56), (8, 57), (8, 58), (8, 59)]\n",
      "\n",
      "\t\tand labels:\n",
      " \t\t['cross', 'cross', 'cross', 'cross', 'cross', 'cross', 'cross', 'cross', 'cross', 'cross', 'cross',\n",
      "\t\t'cross', 'cross', 'cross', 'cross', 'cross', 'cross', 'cross', 'cross', 'cross', 'cross', 'cross',\n",
      "\t\t'cross', 'cross', 'cross', 'cross', 'cross', 'cross', 'cross', 'cross', 'cross', 'cross', 'cross',\n",
      "\t\t'cross', 'cross', 'cross', 'cross', 'cross', 'cross', 'cross', 'cross', 'cross', 'cross', 'cross',\n",
      "\t\t'cross', 'cross', 'cross', 'cross', 'cross', 'cross', 'cross', 'cross', 'cross', 'cross', 'cross',\n",
      "\t\t'cross', 'cross', 'cross', 'cross', 'cross', 'cross', 'cross', 'cross', 'cross', 'cross', 'cross',\n",
      "\t\t'cross', 'cross', 'cross', 'cross', 'cross', 'cross', 'cross', 'cross', 'cross', 'cross', 'cross',\n",
      "\t\t'cross', 'cross', 'cross', 'cross', 'cross', 'cross', 'cross', 'cross', 'cross', 'cross', 'cross',\n",
      "\t\t'cross', 'cross', 'cross', 'cross', 'cross', 'cross', 'cross', 'cross', 'cross', 'cross', 'cross',\n",
      "\t\t'cross', 'cross', 'cross', 'cross', 'cross', 'cross', 'cross', 'cross', 'cross', 'cross', 'cross',\n",
      "\t\t'cross', 'cross', 'cross', 'cross', 'cross', 'cross', 'cross', 'cross', 'cross', 'cross', 'cross',\n",
      "\t\t'cross', 'cross', 'cross', 'cross', 'cross', 'cross', 'cross', 'cross', 'cross', 'cross', 'cross',\n",
      "\t\t'cross', 'cross', 'cross', 'cross', 'cross', 'cross', 'cross', 'cross', 'cross', 'cross', 'cross',\n",
      "\t\t'cross', 'cross', 'cross', 'cross', 'cross', 'cross', 'cross', 'cross', 'cross', 'cross', 'cross',\n",
      "\t\t'cross', 'cross', 'cross', 'cross', 'cross', 'cross', 'cross', 'cross', 'cross', 'cross', 'cross',\n",
      "\t\t'cross', 'cross', 'cross', 'cross', 'cross', 'cross', 'cross', 'cross', 'cross', 'cross', 'cross',\n",
      "\t\t'cross', 'cross', 'cross', 'cross', 'cross', 'cross', 'cross', 'cross', 'cross', 'cross', 'cross',\n",
      "\t\t'cross', 'cross', 'cross', 'cross', 'cross', 'cross', 'cross', 'cross', 'cross', 'cross', 'cross',\n",
      "\t\t'cross', 'cross', 'cross', 'cross', 'cross', 'cross', 'cross', 'cross', 'cross', 'cross', 'cross',\n",
      "\t\t'cross', 'cross', 'cross', 'cross', 'cross', 'cross', 'cross', 'cross', 'cross', 'cross', 'cross',\n",
      "\t\t'cross', 'cross', 'cross', 'cross', 'cross', 'cross', 'cross', 'cross', 'cross', 'cross', 'cross',\n",
      "\t\t'cross', 'cross', 'cross', 'cross', 'cross', 'cross', 'cross', 'cross', 'cross', 'cross', 'cross',\n",
      "\t\t'cross', 'cross', 'cross', 'cross', 'cross', 'cross', 'cross', 'cross', 'cross', 'cross', 'cross',\n",
      "\t\t'cross', 'cross', 'cross', 'cross', 'cross', 'cross', 'cross', 'cross', 'cross', 'cross', 'cross',\n",
      "\t\t'cross', 'cross', 'cross', 'cross', 'cross', 'cross', 'cross', 'cross', 'cross', 'cross', 'cross',\n",
      "\t\t'cross', 'cross', 'cross', 'cross', 'cross', 'cross', 'cross', 'cross', 'cross', 'cross', 'cross',\n",
      "\t\t'cross', 'cross', 'cross', 'cross', 'cross', 'cross', 'cross', 'cross', 'cross', 'cross', 'cross',\n",
      "\t\t'cross', 'cross', 'cross', 'cross', 'cross', 'cross', 'cross', 'cross', 'cross', 'cross', 'cross',\n",
      "\t\t'cross', 'cross', 'cross', 'cross', 'cross', 'cross', 'cross', 'cross', 'cross', 'cross', 'cross',\n",
      "\t\t'cross', 'cross', 'cross', 'cross', 'cross', 'cross', 'cross', 'cross', 'cross', 'cross', 'cross',\n",
      "\t\t'cross', 'cross', 'cross', 'cross', 'cross', 'cross', 'cross', 'cross', 'cross', 'cross', 'cross',\n",
      "\t\t'cross', 'cross', 'cross', 'cross', 'cross', 'cross', 'cross', 'cross', 'cross', 'cross', 'cross',\n",
      "\t\t'cross', 'cross', 'cross', 'cross', 'cross', 'cross', 'cross', 'cross', 'cross', 'cross', 'cross',\n",
      "\t\t'cross', 'cross', 'cross', 'cross', 'cross', 'cross', 'cross', 'cross', 'cross', 'cross', 'cross',\n",
      "\t\t'cross', 'cross', 'cross', 'cross', 'cross', 'cross', 'cross', 'cross', 'cross', 'cross', 'cross',\n",
      "\t\t'cross', 'cross', 'cross', 'cross', 'cross', 'cross', 'cross', 'cross', 'cross', 'cross', 'cross',\n",
      "\t\t'cross', 'cross', 'cross', 'cross']\n",
      " \t\tin namespace: 'labels'. \n",
      " \t answer_span: SpanField with spans: (21, 25). \n",
      " \t context_span: SpanField with spans: (10, 59). \n",
      " \t metadata: MetadataField (print field.metadata to see specific information). \n",
      "\n",
      "3 Instance with fields:\n",
      " \t question_with_context: TextField of length 62 with text: \n",
      " \t\t[[CLS], root, 订定, 班级, 公约, 的, 原则, 是, 什么, ？, [SEP], root, 班级, 公约, 是, 全, 班, 同学, 共同, 订定, ，, 用以, 约束, 每个,\n",
      "\t\t人, 的, 行为, 。, root, 订定, 班级, 公约, 时, ，, 要, 考虑, 全, 班, 同学, 的, 需要, ，, 制定, 明确, 、, 公平, 且, 具体, 可行, 的, 规则, ，,\n",
      "\t\t让, 全, 班, 同学, 都, 能, 确实, 遵守, 。, [SEP]]\n",
      " \t\tand TokenIndexers : {'tokens': 'PretrainedTransformerMismatchedIndexer'} \n",
      " \t edges: AdjacencyField of length 62\n",
      "\t\twith indices:\n",
      " \t\t[(1, 8), (2, 6), (4, 3), (4, 5), (6, 4), (8, 2), (8, 7), (8, 9), (11, 19), (13, 12), (16, 15), (17,\n",
      "\t\t16), (19, 13), (19, 14), (19, 17), (19, 18), (19, 20), (19, 26), (19, 27), (21, 22), (24, 21), (24,\n",
      "\t\t23), (24, 25), (26, 24), (28, 35), (29, 31), (29, 32), (31, 30), (35, 29), (35, 33), (35, 34), (35,\n",
      "\t\t40), (35, 41), (35, 42), (35, 51), (35, 52), (35, 60), (37, 36), (38, 37), (38, 39), (40, 38), (42,\n",
      "\t\t50), (43, 44), (43, 45), (43, 46), (43, 47), (43, 49), (47, 48), (50, 43), (52, 55), (52, 59), (54,\n",
      "\t\t53), (55, 54), (59, 56), (59, 57), (59, 58)]\n",
      "\n",
      "\t\tand labels:\n",
      " \t\t['ROOT', 'dobj', 'compound:nn', 'case', 'nmod:assmod', 'conj', 'cop', 'punct', 'ROOT',\n",
      "\t\t'compound:nn', 'det', 'compound:nn', 'nsubj', 'cop', 'nsubj', 'advmod', 'punct', 'dobj', 'punct',\n",
      "\t\t'dobj', 'acl', 'det', 'case', 'nmod:assmod', 'ROOT', 'dobj', 'case', 'compound:nn', 'advcl:loc',\n",
      "\t\t'punct', 'xcomp', 'dobj', 'punct', 'conj', 'punct', 'conj', 'punct', 'det', 'compound:nn', 'case',\n",
      "\t\t'nmod:assmod', 'dobj', 'punct', 'conj', 'cc', 'conj', 'mark', 'compound:vc', 'amod', 'dobj',\n",
      "\t\t'ccomp', 'det', 'compound:nn', 'advmod', 'aux:modal', 'advmod']\n",
      " \t\tin namespace: 'labels'. \n",
      " \t cross_edges: AdjacencyField of length 62\n",
      "\t\twith indices:\n",
      " \t\t[(1, 11), (1, 12), (1, 13), (1, 14), (1, 15), (1, 16), (1, 17), (1, 18), (1, 19), (1, 20), (1, 21),\n",
      "\t\t(1, 22), (1, 23), (1, 24), (1, 25), (1, 26), (1, 27), (1, 28), (1, 29), (1, 30), (1, 31), (1, 32),\n",
      "\t\t(1, 33), (1, 34), (1, 35), (1, 36), (1, 37), (1, 38), (1, 39), (1, 40), (1, 41), (1, 42), (1, 43),\n",
      "\t\t(1, 44), (1, 45), (1, 46), (1, 47), (1, 48), (1, 49), (1, 50), (1, 51), (1, 52), (1, 53), (1, 54),\n",
      "\t\t(1, 55), (1, 56), (1, 57), (1, 58), (1, 59), (1, 60), (2, 11), (2, 12), (2, 13), (2, 14), (2, 15),\n",
      "\t\t(2, 16), (2, 17), (2, 18), (2, 19), (2, 20), (2, 21), (2, 22), (2, 23), (2, 24), (2, 25), (2, 26),\n",
      "\t\t(2, 27), (2, 28), (2, 29), (2, 30), (2, 31), (2, 32), (2, 33), (2, 34), (2, 35), (2, 36), (2, 37),\n",
      "\t\t(2, 38), (2, 39), (2, 40), (2, 41), (2, 42), (2, 43), (2, 44), (2, 45), (2, 46), (2, 47), (2, 48),\n",
      "\t\t(2, 49), (2, 50), (2, 51), (2, 52), (2, 53), (2, 54), (2, 55), (2, 56), (2, 57), (2, 58), (2, 59),\n",
      "\t\t(2, 60), (3, 11), (3, 12), (3, 13), (3, 14), (3, 15), (3, 16), (3, 17), (3, 18), (3, 19), (3, 20),\n",
      "\t\t(3, 21), (3, 22), (3, 23), (3, 24), (3, 25), (3, 26), (3, 27), (3, 28), (3, 29), (3, 30), (3, 31),\n",
      "\t\t(3, 32), (3, 33), (3, 34), (3, 35), (3, 36), (3, 37), (3, 38), (3, 39), (3, 40), (3, 41), (3, 42),\n",
      "\t\t(3, 43), (3, 44), (3, 45), (3, 46), (3, 47), (3, 48), (3, 49), (3, 50), (3, 51), (3, 52), (3, 53),\n",
      "\t\t(3, 54), (3, 55), (3, 56), (3, 57), (3, 58), (3, 59), (3, 60), (4, 11), (4, 12), (4, 13), (4, 14),\n",
      "\t\t(4, 15), (4, 16), (4, 17), (4, 18), (4, 19), (4, 20), (4, 21), (4, 22), (4, 23), (4, 24), (4, 25),\n",
      "\t\t(4, 26), (4, 27), (4, 28), (4, 29), (4, 30), (4, 31), (4, 32), (4, 33), (4, 34), (4, 35), (4, 36),\n",
      "\t\t(4, 37), (4, 38), (4, 39), (4, 40), (4, 41), (4, 42), (4, 43), (4, 44), (4, 45), (4, 46), (4, 47),\n",
      "\t\t(4, 48), (4, 49), (4, 50), (4, 51), (4, 52), (4, 53), (4, 54), (4, 55), (4, 56), (4, 57), (4, 58),\n",
      "\t\t(4, 59), (4, 60), (5, 11), (5, 12), (5, 13), (5, 14), (5, 15), (5, 16), (5, 17), (5, 18), (5, 19),\n",
      "\t\t(5, 20), (5, 21), (5, 22), (5, 23), (5, 24), (5, 25), (5, 26), (5, 27), (5, 28), (5, 29), (5, 30),\n",
      "\t\t(5, 31), (5, 32), (5, 33), (5, 34), (5, 35), (5, 36), (5, 37), (5, 38), (5, 39), (5, 40), (5, 41),\n",
      "\t\t(5, 42), (5, 43), (5, 44), (5, 45), (5, 46), (5, 47), (5, 48), (5, 49), (5, 50), (5, 51), (5, 52),\n",
      "\t\t(5, 53), (5, 54), (5, 55), (5, 56), (5, 57), (5, 58), (5, 59), (5, 60), (6, 11), (6, 12), (6, 13),\n",
      "\t\t(6, 14), (6, 15), (6, 16), (6, 17), (6, 18), (6, 19), (6, 20), (6, 21), (6, 22), (6, 23), (6, 24),\n",
      "\t\t(6, 25), (6, 26), (6, 27), (6, 28), (6, 29), (6, 30), (6, 31), (6, 32), (6, 33), (6, 34), (6, 35),\n",
      "\t\t(6, 36), (6, 37), (6, 38), (6, 39), (6, 40), (6, 41), (6, 42), (6, 43), (6, 44), (6, 45), (6, 46),\n",
      "\t\t(6, 47), (6, 48), (6, 49), (6, 50), (6, 51), (6, 52), (6, 53), (6, 54), (6, 55), (6, 56), (6, 57),\n",
      "\t\t(6, 58), (6, 59), (6, 60), (7, 11), (7, 12), (7, 13), (7, 14), (7, 15), (7, 16), (7, 17), (7, 18),\n",
      "\t\t(7, 19), (7, 20), (7, 21), (7, 22), (7, 23), (7, 24), (7, 25), (7, 26), (7, 27), (7, 28), (7, 29),\n",
      "\t\t(7, 30), (7, 31), (7, 32), (7, 33), (7, 34), (7, 35), (7, 36), (7, 37), (7, 38), (7, 39), (7, 40),\n",
      "\t\t(7, 41), (7, 42), (7, 43), (7, 44), (7, 45), (7, 46), (7, 47), (7, 48), (7, 49), (7, 50), (7, 51),\n",
      "\t\t(7, 52), (7, 53), (7, 54), (7, 55), (7, 56), (7, 57), (7, 58), (7, 59), (7, 60), (8, 11), (8, 12),\n",
      "\t\t(8, 13), (8, 14), (8, 15), (8, 16), (8, 17), (8, 18), (8, 19), (8, 20), (8, 21), (8, 22), (8, 23),\n",
      "\t\t(8, 24), (8, 25), (8, 26), (8, 27), (8, 28), (8, 29), (8, 30), (8, 31), (8, 32), (8, 33), (8, 34),\n",
      "\t\t(8, 35), (8, 36), (8, 37), (8, 38), (8, 39), (8, 40), (8, 41), (8, 42), (8, 43), (8, 44), (8, 45),\n",
      "\t\t(8, 46), (8, 47), (8, 48), (8, 49), (8, 50), (8, 51), (8, 52), (8, 53), (8, 54), (8, 55), (8, 56),\n",
      "\t\t(8, 57), (8, 58), (8, 59), (8, 60), (9, 11), (9, 12), (9, 13), (9, 14), (9, 15), (9, 16), (9, 17),\n",
      "\t\t(9, 18), (9, 19), (9, 20), (9, 21), (9, 22), (9, 23), (9, 24), (9, 25), (9, 26), (9, 27), (9, 28),\n",
      "\t\t(9, 29), (9, 30), (9, 31), (9, 32), (9, 33), (9, 34), (9, 35), (9, 36), (9, 37), (9, 38), (9, 39),\n",
      "\t\t(9, 40), (9, 41), (9, 42), (9, 43), (9, 44), (9, 45), (9, 46), (9, 47), (9, 48), (9, 49), (9, 50),\n",
      "\t\t(9, 51), (9, 52), (9, 53), (9, 54), (9, 55), (9, 56), (9, 57), (9, 58), (9, 59), (9, 60)]\n",
      "\n",
      "\t\tand labels:\n",
      " \t\t['cross', 'cross', 'cross', 'cross', 'cross', 'cross', 'cross', 'cross', 'cross', 'cross', 'cross',\n",
      "\t\t'cross', 'cross', 'cross', 'cross', 'cross', 'cross', 'cross', 'cross', 'cross', 'cross', 'cross',\n",
      "\t\t'cross', 'cross', 'cross', 'cross', 'cross', 'cross', 'cross', 'cross', 'cross', 'cross', 'cross',\n",
      "\t\t'cross', 'cross', 'cross', 'cross', 'cross', 'cross', 'cross', 'cross', 'cross', 'cross', 'cross',\n",
      "\t\t'cross', 'cross', 'cross', 'cross', 'cross', 'cross', 'cross', 'cross', 'cross', 'cross', 'cross',\n",
      "\t\t'cross', 'cross', 'cross', 'cross', 'cross', 'cross', 'cross', 'cross', 'cross', 'cross', 'cross',\n",
      "\t\t'cross', 'cross', 'cross', 'cross', 'cross', 'cross', 'cross', 'cross', 'cross', 'cross', 'cross',\n",
      "\t\t'cross', 'cross', 'cross', 'cross', 'cross', 'cross', 'cross', 'cross', 'cross', 'cross', 'cross',\n",
      "\t\t'cross', 'cross', 'cross', 'cross', 'cross', 'cross', 'cross', 'cross', 'cross', 'cross', 'cross',\n",
      "\t\t'cross', 'cross', 'cross', 'cross', 'cross', 'cross', 'cross', 'cross', 'cross', 'cross', 'cross',\n",
      "\t\t'cross', 'cross', 'cross', 'cross', 'cross', 'cross', 'cross', 'cross', 'cross', 'cross', 'cross',\n",
      "\t\t'cross', 'cross', 'cross', 'cross', 'cross', 'cross', 'cross', 'cross', 'cross', 'cross', 'cross',\n",
      "\t\t'cross', 'cross', 'cross', 'cross', 'cross', 'cross', 'cross', 'cross', 'cross', 'cross', 'cross',\n",
      "\t\t'cross', 'cross', 'cross', 'cross', 'cross', 'cross', 'cross', 'cross', 'cross', 'cross', 'cross',\n",
      "\t\t'cross', 'cross', 'cross', 'cross', 'cross', 'cross', 'cross', 'cross', 'cross', 'cross', 'cross',\n",
      "\t\t'cross', 'cross', 'cross', 'cross', 'cross', 'cross', 'cross', 'cross', 'cross', 'cross', 'cross',\n",
      "\t\t'cross', 'cross', 'cross', 'cross', 'cross', 'cross', 'cross', 'cross', 'cross', 'cross', 'cross',\n",
      "\t\t'cross', 'cross', 'cross', 'cross', 'cross', 'cross', 'cross', 'cross', 'cross', 'cross', 'cross',\n",
      "\t\t'cross', 'cross', 'cross', 'cross', 'cross', 'cross', 'cross', 'cross', 'cross', 'cross', 'cross',\n",
      "\t\t'cross', 'cross', 'cross', 'cross', 'cross', 'cross', 'cross', 'cross', 'cross', 'cross', 'cross',\n",
      "\t\t'cross', 'cross', 'cross', 'cross', 'cross', 'cross', 'cross', 'cross', 'cross', 'cross', 'cross',\n",
      "\t\t'cross', 'cross', 'cross', 'cross', 'cross', 'cross', 'cross', 'cross', 'cross', 'cross', 'cross',\n",
      "\t\t'cross', 'cross', 'cross', 'cross', 'cross', 'cross', 'cross', 'cross', 'cross', 'cross', 'cross',\n",
      "\t\t'cross', 'cross', 'cross', 'cross', 'cross', 'cross', 'cross', 'cross', 'cross', 'cross', 'cross',\n",
      "\t\t'cross', 'cross', 'cross', 'cross', 'cross', 'cross', 'cross', 'cross', 'cross', 'cross', 'cross',\n",
      "\t\t'cross', 'cross', 'cross', 'cross', 'cross', 'cross', 'cross', 'cross', 'cross', 'cross', 'cross',\n",
      "\t\t'cross', 'cross', 'cross', 'cross', 'cross', 'cross', 'cross', 'cross', 'cross', 'cross', 'cross',\n",
      "\t\t'cross', 'cross', 'cross', 'cross', 'cross', 'cross', 'cross', 'cross', 'cross', 'cross', 'cross',\n",
      "\t\t'cross', 'cross', 'cross', 'cross', 'cross', 'cross', 'cross', 'cross', 'cross', 'cross', 'cross',\n",
      "\t\t'cross', 'cross', 'cross', 'cross', 'cross', 'cross', 'cross', 'cross', 'cross', 'cross', 'cross',\n",
      "\t\t'cross', 'cross', 'cross', 'cross', 'cross', 'cross', 'cross', 'cross', 'cross', 'cross', 'cross',\n",
      "\t\t'cross', 'cross', 'cross', 'cross', 'cross', 'cross', 'cross', 'cross', 'cross', 'cross', 'cross',\n",
      "\t\t'cross', 'cross', 'cross', 'cross', 'cross', 'cross', 'cross', 'cross', 'cross', 'cross', 'cross',\n",
      "\t\t'cross', 'cross', 'cross', 'cross', 'cross', 'cross', 'cross', 'cross', 'cross', 'cross', 'cross',\n",
      "\t\t'cross', 'cross', 'cross', 'cross', 'cross', 'cross', 'cross', 'cross', 'cross', 'cross', 'cross',\n",
      "\t\t'cross', 'cross', 'cross', 'cross', 'cross', 'cross', 'cross', 'cross', 'cross', 'cross', 'cross',\n",
      "\t\t'cross', 'cross', 'cross', 'cross', 'cross', 'cross', 'cross', 'cross', 'cross', 'cross', 'cross',\n",
      "\t\t'cross', 'cross', 'cross', 'cross', 'cross', 'cross', 'cross', 'cross', 'cross', 'cross', 'cross',\n",
      "\t\t'cross', 'cross', 'cross', 'cross', 'cross', 'cross', 'cross', 'cross', 'cross', 'cross', 'cross',\n",
      "\t\t'cross', 'cross', 'cross', 'cross', 'cross', 'cross', 'cross', 'cross', 'cross', 'cross', 'cross',\n",
      "\t\t'cross', 'cross', 'cross', 'cross', 'cross', 'cross', 'cross', 'cross', 'cross', 'cross']\n",
      " \t\tin namespace: 'labels'. \n",
      " \t answer_span: SpanField with spans: (34, 40). \n",
      " \t context_span: SpanField with spans: (11, 60). \n",
      " \t metadata: MetadataField (print field.metadata to see specific information). \n",
      "\n",
      "4 Instance with fields:\n",
      " \t question_with_context: TextField of length 63 with text: \n",
      " \t\t[[CLS], root, 班级, 公约, 的, 内容, 应, 以, 什么, 为主, ？, [SEP], root, 班级, 公约, 是, 全, 班, 同学, 共同, 订定, ，, 用以, 约束,\n",
      "\t\t每个, 人, 的, 行为, 。, root, 订定, 班级, 公约, 时, ，, 要, 考虑, 全, 班, 同学, 的, 需要, ，, 制定, 明确, 、, 公平, 且, 具体, 可行, 的, 规则,\n",
      "\t\t，, 让, 全, 班, 同学, 都, 能, 确实, 遵守, 。, [SEP]]\n",
      " \t\tand TokenIndexers : {'tokens': 'PretrainedTransformerMismatchedIndexer'} \n",
      " \t edges: AdjacencyField of length 63\n",
      "\t\twith indices:\n",
      " \t\t[(1, 9), (3, 2), (3, 4), (5, 3), (8, 7), (9, 5), (9, 6), (9, 8), (9, 10), (12, 20), (14, 13), (17,\n",
      "\t\t16), (18, 17), (20, 14), (20, 15), (20, 18), (20, 19), (20, 21), (20, 27), (20, 28), (22, 23), (25,\n",
      "\t\t22), (25, 24), (25, 26), (27, 25), (29, 36), (30, 32), (30, 33), (32, 31), (36, 30), (36, 34), (36,\n",
      "\t\t35), (36, 41), (36, 42), (36, 43), (36, 52), (36, 53), (36, 61), (38, 37), (39, 38), (39, 40), (41,\n",
      "\t\t39), (43, 51), (44, 45), (44, 46), (44, 47), (44, 48), (44, 50), (48, 49), (51, 44), (53, 56), (53,\n",
      "\t\t60), (55, 54), (56, 55), (60, 57), (60, 58), (60, 59)]\n",
      "\n",
      "\t\tand labels:\n",
      " \t\t['ROOT', 'compound:nn', 'case', 'nmod:assmod', 'case', 'nsubj', 'aux:modal', 'nmod:prep', 'punct',\n",
      "\t\t'ROOT', 'compound:nn', 'det', 'compound:nn', 'nsubj', 'cop', 'nsubj', 'advmod', 'punct', 'dobj',\n",
      "\t\t'punct', 'dobj', 'acl', 'det', 'case', 'nmod:assmod', 'ROOT', 'dobj', 'case', 'compound:nn',\n",
      "\t\t'advcl:loc', 'punct', 'xcomp', 'dobj', 'punct', 'conj', 'punct', 'conj', 'punct', 'det',\n",
      "\t\t'compound:nn', 'case', 'nmod:assmod', 'dobj', 'punct', 'conj', 'cc', 'conj', 'mark', 'compound:vc',\n",
      "\t\t'amod', 'dobj', 'ccomp', 'det', 'compound:nn', 'advmod', 'aux:modal', 'advmod']\n",
      " \t\tin namespace: 'labels'. \n",
      " \t cross_edges: AdjacencyField of length 63\n",
      "\t\twith indices:\n",
      " \t\t[(1, 12), (1, 13), (1, 14), (1, 15), (1, 16), (1, 17), (1, 18), (1, 19), (1, 20), (1, 21), (1, 22),\n",
      "\t\t(1, 23), (1, 24), (1, 25), (1, 26), (1, 27), (1, 28), (1, 29), (1, 30), (1, 31), (1, 32), (1, 33),\n",
      "\t\t(1, 34), (1, 35), (1, 36), (1, 37), (1, 38), (1, 39), (1, 40), (1, 41), (1, 42), (1, 43), (1, 44),\n",
      "\t\t(1, 45), (1, 46), (1, 47), (1, 48), (1, 49), (1, 50), (1, 51), (1, 52), (1, 53), (1, 54), (1, 55),\n",
      "\t\t(1, 56), (1, 57), (1, 58), (1, 59), (1, 60), (1, 61), (2, 12), (2, 13), (2, 14), (2, 15), (2, 16),\n",
      "\t\t(2, 17), (2, 18), (2, 19), (2, 20), (2, 21), (2, 22), (2, 23), (2, 24), (2, 25), (2, 26), (2, 27),\n",
      "\t\t(2, 28), (2, 29), (2, 30), (2, 31), (2, 32), (2, 33), (2, 34), (2, 35), (2, 36), (2, 37), (2, 38),\n",
      "\t\t(2, 39), (2, 40), (2, 41), (2, 42), (2, 43), (2, 44), (2, 45), (2, 46), (2, 47), (2, 48), (2, 49),\n",
      "\t\t(2, 50), (2, 51), (2, 52), (2, 53), (2, 54), (2, 55), (2, 56), (2, 57), (2, 58), (2, 59), (2, 60),\n",
      "\t\t(2, 61), (3, 12), (3, 13), (3, 14), (3, 15), (3, 16), (3, 17), (3, 18), (3, 19), (3, 20), (3, 21),\n",
      "\t\t(3, 22), (3, 23), (3, 24), (3, 25), (3, 26), (3, 27), (3, 28), (3, 29), (3, 30), (3, 31), (3, 32),\n",
      "\t\t(3, 33), (3, 34), (3, 35), (3, 36), (3, 37), (3, 38), (3, 39), (3, 40), (3, 41), (3, 42), (3, 43),\n",
      "\t\t(3, 44), (3, 45), (3, 46), (3, 47), (3, 48), (3, 49), (3, 50), (3, 51), (3, 52), (3, 53), (3, 54),\n",
      "\t\t(3, 55), (3, 56), (3, 57), (3, 58), (3, 59), (3, 60), (3, 61), (4, 12), (4, 13), (4, 14), (4, 15),\n",
      "\t\t(4, 16), (4, 17), (4, 18), (4, 19), (4, 20), (4, 21), (4, 22), (4, 23), (4, 24), (4, 25), (4, 26),\n",
      "\t\t(4, 27), (4, 28), (4, 29), (4, 30), (4, 31), (4, 32), (4, 33), (4, 34), (4, 35), (4, 36), (4, 37),\n",
      "\t\t(4, 38), (4, 39), (4, 40), (4, 41), (4, 42), (4, 43), (4, 44), (4, 45), (4, 46), (4, 47), (4, 48),\n",
      "\t\t(4, 49), (4, 50), (4, 51), (4, 52), (4, 53), (4, 54), (4, 55), (4, 56), (4, 57), (4, 58), (4, 59),\n",
      "\t\t(4, 60), (4, 61), (5, 12), (5, 13), (5, 14), (5, 15), (5, 16), (5, 17), (5, 18), (5, 19), (5, 20),\n",
      "\t\t(5, 21), (5, 22), (5, 23), (5, 24), (5, 25), (5, 26), (5, 27), (5, 28), (5, 29), (5, 30), (5, 31),\n",
      "\t\t(5, 32), (5, 33), (5, 34), (5, 35), (5, 36), (5, 37), (5, 38), (5, 39), (5, 40), (5, 41), (5, 42),\n",
      "\t\t(5, 43), (5, 44), (5, 45), (5, 46), (5, 47), (5, 48), (5, 49), (5, 50), (5, 51), (5, 52), (5, 53),\n",
      "\t\t(5, 54), (5, 55), (5, 56), (5, 57), (5, 58), (5, 59), (5, 60), (5, 61), (6, 12), (6, 13), (6, 14),\n",
      "\t\t(6, 15), (6, 16), (6, 17), (6, 18), (6, 19), (6, 20), (6, 21), (6, 22), (6, 23), (6, 24), (6, 25),\n",
      "\t\t(6, 26), (6, 27), (6, 28), (6, 29), (6, 30), (6, 31), (6, 32), (6, 33), (6, 34), (6, 35), (6, 36),\n",
      "\t\t(6, 37), (6, 38), (6, 39), (6, 40), (6, 41), (6, 42), (6, 43), (6, 44), (6, 45), (6, 46), (6, 47),\n",
      "\t\t(6, 48), (6, 49), (6, 50), (6, 51), (6, 52), (6, 53), (6, 54), (6, 55), (6, 56), (6, 57), (6, 58),\n",
      "\t\t(6, 59), (6, 60), (6, 61), (7, 12), (7, 13), (7, 14), (7, 15), (7, 16), (7, 17), (7, 18), (7, 19),\n",
      "\t\t(7, 20), (7, 21), (7, 22), (7, 23), (7, 24), (7, 25), (7, 26), (7, 27), (7, 28), (7, 29), (7, 30),\n",
      "\t\t(7, 31), (7, 32), (7, 33), (7, 34), (7, 35), (7, 36), (7, 37), (7, 38), (7, 39), (7, 40), (7, 41),\n",
      "\t\t(7, 42), (7, 43), (7, 44), (7, 45), (7, 46), (7, 47), (7, 48), (7, 49), (7, 50), (7, 51), (7, 52),\n",
      "\t\t(7, 53), (7, 54), (7, 55), (7, 56), (7, 57), (7, 58), (7, 59), (7, 60), (7, 61), (8, 12), (8, 13),\n",
      "\t\t(8, 14), (8, 15), (8, 16), (8, 17), (8, 18), (8, 19), (8, 20), (8, 21), (8, 22), (8, 23), (8, 24),\n",
      "\t\t(8, 25), (8, 26), (8, 27), (8, 28), (8, 29), (8, 30), (8, 31), (8, 32), (8, 33), (8, 34), (8, 35),\n",
      "\t\t(8, 36), (8, 37), (8, 38), (8, 39), (8, 40), (8, 41), (8, 42), (8, 43), (8, 44), (8, 45), (8, 46),\n",
      "\t\t(8, 47), (8, 48), (8, 49), (8, 50), (8, 51), (8, 52), (8, 53), (8, 54), (8, 55), (8, 56), (8, 57),\n",
      "\t\t(8, 58), (8, 59), (8, 60), (8, 61), (9, 12), (9, 13), (9, 14), (9, 15), (9, 16), (9, 17), (9, 18),\n",
      "\t\t(9, 19), (9, 20), (9, 21), (9, 22), (9, 23), (9, 24), (9, 25), (9, 26), (9, 27), (9, 28), (9, 29),\n",
      "\t\t(9, 30), (9, 31), (9, 32), (9, 33), (9, 34), (9, 35), (9, 36), (9, 37), (9, 38), (9, 39), (9, 40),\n",
      "\t\t(9, 41), (9, 42), (9, 43), (9, 44), (9, 45), (9, 46), (9, 47), (9, 48), (9, 49), (9, 50), (9, 51),\n",
      "\t\t(9, 52), (9, 53), (9, 54), (9, 55), (9, 56), (9, 57), (9, 58), (9, 59), (9, 60), (9, 61), (10, 12),\n",
      "\t\t(10, 13), (10, 14), (10, 15), (10, 16), (10, 17), (10, 18), (10, 19), (10, 20), (10, 21), (10, 22),\n",
      "\t\t(10, 23), (10, 24), (10, 25), (10, 26), (10, 27), (10, 28), (10, 29), (10, 30), (10, 31), (10, 32),\n",
      "\t\t(10, 33), (10, 34), (10, 35), (10, 36), (10, 37), (10, 38), (10, 39), (10, 40), (10, 41), (10, 42),\n",
      "\t\t(10, 43), (10, 44), (10, 45), (10, 46), (10, 47), (10, 48), (10, 49), (10, 50), (10, 51), (10, 52),\n",
      "\t\t(10, 53), (10, 54), (10, 55), (10, 56), (10, 57), (10, 58), (10, 59), (10, 60), (10, 61)]\n",
      "\n",
      "\t\tand labels:\n",
      " \t\t['cross', 'cross', 'cross', 'cross', 'cross', 'cross', 'cross', 'cross', 'cross', 'cross', 'cross',\n",
      "\t\t'cross', 'cross', 'cross', 'cross', 'cross', 'cross', 'cross', 'cross', 'cross', 'cross', 'cross',\n",
      "\t\t'cross', 'cross', 'cross', 'cross', 'cross', 'cross', 'cross', 'cross', 'cross', 'cross', 'cross',\n",
      "\t\t'cross', 'cross', 'cross', 'cross', 'cross', 'cross', 'cross', 'cross', 'cross', 'cross', 'cross',\n",
      "\t\t'cross', 'cross', 'cross', 'cross', 'cross', 'cross', 'cross', 'cross', 'cross', 'cross', 'cross',\n",
      "\t\t'cross', 'cross', 'cross', 'cross', 'cross', 'cross', 'cross', 'cross', 'cross', 'cross', 'cross',\n",
      "\t\t'cross', 'cross', 'cross', 'cross', 'cross', 'cross', 'cross', 'cross', 'cross', 'cross', 'cross',\n",
      "\t\t'cross', 'cross', 'cross', 'cross', 'cross', 'cross', 'cross', 'cross', 'cross', 'cross', 'cross',\n",
      "\t\t'cross', 'cross', 'cross', 'cross', 'cross', 'cross', 'cross', 'cross', 'cross', 'cross', 'cross',\n",
      "\t\t'cross', 'cross', 'cross', 'cross', 'cross', 'cross', 'cross', 'cross', 'cross', 'cross', 'cross',\n",
      "\t\t'cross', 'cross', 'cross', 'cross', 'cross', 'cross', 'cross', 'cross', 'cross', 'cross', 'cross',\n",
      "\t\t'cross', 'cross', 'cross', 'cross', 'cross', 'cross', 'cross', 'cross', 'cross', 'cross', 'cross',\n",
      "\t\t'cross', 'cross', 'cross', 'cross', 'cross', 'cross', 'cross', 'cross', 'cross', 'cross', 'cross',\n",
      "\t\t'cross', 'cross', 'cross', 'cross', 'cross', 'cross', 'cross', 'cross', 'cross', 'cross', 'cross',\n",
      "\t\t'cross', 'cross', 'cross', 'cross', 'cross', 'cross', 'cross', 'cross', 'cross', 'cross', 'cross',\n",
      "\t\t'cross', 'cross', 'cross', 'cross', 'cross', 'cross', 'cross', 'cross', 'cross', 'cross', 'cross',\n",
      "\t\t'cross', 'cross', 'cross', 'cross', 'cross', 'cross', 'cross', 'cross', 'cross', 'cross', 'cross',\n",
      "\t\t'cross', 'cross', 'cross', 'cross', 'cross', 'cross', 'cross', 'cross', 'cross', 'cross', 'cross',\n",
      "\t\t'cross', 'cross', 'cross', 'cross', 'cross', 'cross', 'cross', 'cross', 'cross', 'cross', 'cross',\n",
      "\t\t'cross', 'cross', 'cross', 'cross', 'cross', 'cross', 'cross', 'cross', 'cross', 'cross', 'cross',\n",
      "\t\t'cross', 'cross', 'cross', 'cross', 'cross', 'cross', 'cross', 'cross', 'cross', 'cross', 'cross',\n",
      "\t\t'cross', 'cross', 'cross', 'cross', 'cross', 'cross', 'cross', 'cross', 'cross', 'cross', 'cross',\n",
      "\t\t'cross', 'cross', 'cross', 'cross', 'cross', 'cross', 'cross', 'cross', 'cross', 'cross', 'cross',\n",
      "\t\t'cross', 'cross', 'cross', 'cross', 'cross', 'cross', 'cross', 'cross', 'cross', 'cross', 'cross',\n",
      "\t\t'cross', 'cross', 'cross', 'cross', 'cross', 'cross', 'cross', 'cross', 'cross', 'cross', 'cross',\n",
      "\t\t'cross', 'cross', 'cross', 'cross', 'cross', 'cross', 'cross', 'cross', 'cross', 'cross', 'cross',\n",
      "\t\t'cross', 'cross', 'cross', 'cross', 'cross', 'cross', 'cross', 'cross', 'cross', 'cross', 'cross',\n",
      "\t\t'cross', 'cross', 'cross', 'cross', 'cross', 'cross', 'cross', 'cross', 'cross', 'cross', 'cross',\n",
      "\t\t'cross', 'cross', 'cross', 'cross', 'cross', 'cross', 'cross', 'cross', 'cross', 'cross', 'cross',\n",
      "\t\t'cross', 'cross', 'cross', 'cross', 'cross', 'cross', 'cross', 'cross', 'cross', 'cross', 'cross',\n",
      "\t\t'cross', 'cross', 'cross', 'cross', 'cross', 'cross', 'cross', 'cross', 'cross', 'cross', 'cross',\n",
      "\t\t'cross', 'cross', 'cross', 'cross', 'cross', 'cross', 'cross', 'cross', 'cross', 'cross', 'cross',\n",
      "\t\t'cross', 'cross', 'cross', 'cross', 'cross', 'cross', 'cross', 'cross', 'cross', 'cross', 'cross',\n",
      "\t\t'cross', 'cross', 'cross', 'cross', 'cross', 'cross', 'cross', 'cross', 'cross', 'cross', 'cross',\n",
      "\t\t'cross', 'cross', 'cross', 'cross', 'cross', 'cross', 'cross', 'cross', 'cross', 'cross', 'cross',\n",
      "\t\t'cross', 'cross', 'cross', 'cross', 'cross', 'cross', 'cross', 'cross', 'cross', 'cross', 'cross',\n",
      "\t\t'cross', 'cross', 'cross', 'cross', 'cross', 'cross', 'cross', 'cross', 'cross', 'cross', 'cross',\n",
      "\t\t'cross', 'cross', 'cross', 'cross', 'cross', 'cross', 'cross', 'cross', 'cross', 'cross', 'cross',\n",
      "\t\t'cross', 'cross', 'cross', 'cross', 'cross', 'cross', 'cross', 'cross', 'cross', 'cross', 'cross',\n",
      "\t\t'cross', 'cross', 'cross', 'cross', 'cross', 'cross', 'cross', 'cross', 'cross', 'cross', 'cross',\n",
      "\t\t'cross', 'cross', 'cross', 'cross', 'cross', 'cross', 'cross', 'cross', 'cross', 'cross', 'cross',\n",
      "\t\t'cross', 'cross', 'cross', 'cross', 'cross', 'cross', 'cross', 'cross', 'cross', 'cross', 'cross',\n",
      "\t\t'cross', 'cross', 'cross', 'cross', 'cross', 'cross', 'cross', 'cross', 'cross', 'cross', 'cross',\n",
      "\t\t'cross', 'cross', 'cross', 'cross', 'cross', 'cross', 'cross', 'cross', 'cross', 'cross', 'cross',\n",
      "\t\t'cross', 'cross', 'cross', 'cross', 'cross', 'cross', 'cross', 'cross', 'cross', 'cross', 'cross',\n",
      "\t\t'cross', 'cross', 'cross', 'cross', 'cross']\n",
      " \t\tin namespace: 'labels'. \n",
      " \t answer_span: SpanField with spans: (36, 41). \n",
      " \t context_span: SpanField with spans: (12, 61). \n",
      " \t metadata: MetadataField (print field.metadata to see specific information). \n",
      "\n",
      "time: 17.7 ms\n"
     ]
    },
    {
     "name": "stderr",
     "output_type": "stream",
     "text": [
      "[autoreload of libs.dataset_readers.ssqa_dependency_reader failed: Traceback (most recent call last):\n",
      "  File \"/opt/conda/lib/python3.7/site-packages/IPython/extensions/autoreload.py\", line 245, in check\n",
      "    superreload(m, reload, self.old_objects)\n",
      "  File \"/opt/conda/lib/python3.7/site-packages/IPython/extensions/autoreload.py\", line 394, in superreload\n",
      "    module = reload(module)\n",
      "  File \"/opt/conda/lib/python3.7/imp.py\", line 314, in reload\n",
      "    return importlib.reload(module)\n",
      "  File \"/opt/conda/lib/python3.7/importlib/__init__.py\", line 169, in reload\n",
      "    _bootstrap._exec(spec, module)\n",
      "  File \"<frozen importlib._bootstrap>\", line 630, in _exec\n",
      "  File \"<frozen importlib._bootstrap_external>\", line 728, in exec_module\n",
      "  File \"<frozen importlib._bootstrap>\", line 219, in _call_with_frames_removed\n",
      "  File \"../libs/dataset_readers/ssqa_dependency_reader.py\", line 29, in <module>\n",
      "    class SSQADependencyReader(DatasetReader):\n",
      "  File \"/home/user/.local/lib/python3.7/site-packages/allennlp/common/registrable.py\", line 123, in add_subclass_to_registry\n",
      "    raise ConfigurationError(message)\n",
      "allennlp.common.checks.ConfigurationError: Cannot register ssqa_dependency as DatasetReader; name already in use for SSQADependencyReader\n",
      "]\n"
     ]
    }
   ],
   "source": [
    "print(0, dataset[0])\n",
    "print(1, dataset[1])\n",
    "print(2, dataset[2])\n",
    "print(3, dataset[3])\n",
    "print(4, dataset[4])"
   ]
  },
  {
   "cell_type": "code",
   "execution_count": null,
   "metadata": {},
   "outputs": [],
   "source": []
  },
  {
   "cell_type": "code",
   "execution_count": null,
   "metadata": {},
   "outputs": [],
   "source": []
  },
  {
   "cell_type": "code",
   "execution_count": 27,
   "metadata": {},
   "outputs": [
    {
     "name": "stdout",
     "output_type": "stream",
     "text": [
      "time: 1.26 ms\n"
     ]
    }
   ],
   "source": [
    "from torch_geometric.data import Data, Batch"
   ]
  },
  {
   "cell_type": "code",
   "execution_count": 33,
   "metadata": {},
   "outputs": [
    {
     "name": "stdout",
     "output_type": "stream",
     "text": [
      "time: 1.96 ms\n"
     ]
    }
   ],
   "source": [
    "edge_index = torch.tensor([\n",
    "    [0, 0, 0, 0],\n",
    "    [1, 2, 3, 4],\n",
    "])\n",
    "x = torch.randn(5, 1)  # 5 nodes.\n",
    "\n",
    "data = Data(x=x, edge_index=edge_index)"
   ]
  },
  {
   "cell_type": "code",
   "execution_count": 34,
   "metadata": {},
   "outputs": [
    {
     "name": "stdout",
     "output_type": "stream",
     "text": [
      "tensor([[ 0.9581],\n",
      "        [ 0.5231],\n",
      "        [-0.3380],\n",
      "        [ 0.1966],\n",
      "        [-1.8652]])\n",
      "tensor([[0, 0, 0, 0],\n",
      "        [1, 2, 3, 4]])\n",
      "time: 2.64 ms\n"
     ]
    }
   ],
   "source": [
    "print(data.x)\n",
    "print(data.edge_index)"
   ]
  },
  {
   "cell_type": "code",
   "execution_count": 37,
   "metadata": {},
   "outputs": [
    {
     "name": "stdout",
     "output_type": "stream",
     "text": [
      "time: 1.77 ms\n"
     ]
    }
   ],
   "source": [
    "batch = Batch.from_data_list([data, data])"
   ]
  },
  {
   "cell_type": "code",
   "execution_count": 56,
   "metadata": {},
   "outputs": [
    {
     "name": "stdout",
     "output_type": "stream",
     "text": [
      "time: 1.75 ms\n"
     ]
    },
    {
     "name": "stderr",
     "output_type": "stream",
     "text": [
      "/opt/conda/lib/python3.7/site-packages/ipykernel_launcher.py:1: UserWarning: torch.range is deprecated in favor of torch.arange and will be removed in 0.5. Note that arange generates values in [start; end), not [start; end].\n",
      "  \"\"\"Entry point for launching an IPython kernel.\n"
     ]
    }
   ],
   "source": [
    "a = torch.range(0, 9)"
   ]
  },
  {
   "cell_type": "code",
   "execution_count": 55,
   "metadata": {},
   "outputs": [
    {
     "data": {
      "text/plain": [
       "tensor([ 0.,  1.,  2.,  3.,  4.,  5.,  6.,  7.,  8.,  9., 10.])"
      ]
     },
     "execution_count": 55,
     "metadata": {},
     "output_type": "execute_result"
    },
    {
     "name": "stdout",
     "output_type": "stream",
     "text": [
      "time: 3.3 ms\n"
     ]
    }
   ],
   "source": [
    "a"
   ]
  },
  {
   "cell_type": "code",
   "execution_count": 59,
   "metadata": {},
   "outputs": [
    {
     "data": {
      "text/plain": [
       "torch.Size([2, 5])"
      ]
     },
     "execution_count": 59,
     "metadata": {},
     "output_type": "execute_result"
    },
    {
     "name": "stdout",
     "output_type": "stream",
     "text": [
      "time: 3.05 ms\n"
     ]
    }
   ],
   "source": [
    "torch.stack(a.split(5)).shape"
   ]
  },
  {
   "cell_type": "code",
   "execution_count": 48,
   "metadata": {},
   "outputs": [
    {
     "data": {
      "text/plain": [
       "torch.Size([46, 2])"
      ]
     },
     "execution_count": 48,
     "metadata": {},
     "output_type": "execute_result"
    },
    {
     "name": "stdout",
     "output_type": "stream",
     "text": [
      "time: 2.93 ms\n"
     ]
    }
   ],
   "source": [
    "a1.shape"
   ]
  },
  {
   "cell_type": "markdown",
   "metadata": {},
   "source": [
    "---\n",
    "## Test"
   ]
  },
  {
   "cell_type": "code",
   "execution_count": 23,
   "metadata": {},
   "outputs": [
    {
     "name": "stderr",
     "output_type": "stream",
     "text": [
      "[autoreload of libs.dataset_readers.ssqa_singlespan failed: Traceback (most recent call last):\n",
      "  File \"/opt/conda/lib/python3.7/site-packages/IPython/extensions/autoreload.py\", line 245, in check\n",
      "    superreload(m, reload, self.old_objects)\n",
      "  File \"/opt/conda/lib/python3.7/site-packages/IPython/extensions/autoreload.py\", line 394, in superreload\n",
      "    module = reload(module)\n",
      "  File \"/opt/conda/lib/python3.7/imp.py\", line 314, in reload\n",
      "    return importlib.reload(module)\n",
      "  File \"/opt/conda/lib/python3.7/importlib/__init__.py\", line 169, in reload\n",
      "    _bootstrap._exec(spec, module)\n",
      "  File \"<frozen importlib._bootstrap>\", line 630, in _exec\n",
      "  File \"<frozen importlib._bootstrap_external>\", line 728, in exec_module\n",
      "  File \"<frozen importlib._bootstrap>\", line 219, in _call_with_frames_removed\n",
      "  File \"/workspace/GNN-based SSQA/libs/dataset_readers/ssqa_singlespan.py\", line 26, in <module>\n",
      "    class SSQASinglespanReader(DatasetReader):\n",
      "  File \"/home/user/.local/lib/python3.7/site-packages/allennlp/common/registrable.py\", line 123, in add_subclass_to_registry\n",
      "    raise ConfigurationError(message)\n",
      "allennlp.common.checks.ConfigurationError: Cannot register ssqa as DatasetReader; name already in use for SSQASinglespanReader\n",
      "]\n"
     ]
    },
    {
     "name": "stdout",
     "output_type": "stream",
     "text": [
      "\u001b[1m============================= test session starts ==============================\u001b[0m\n",
      "platform linux -- Python 3.7.7, pytest-6.0.1, py-1.9.0, pluggy-0.13.1\n",
      "rootdir: /workspace/GNN-based SSQA\n",
      "collected 1 item                                                               \u001b[0m\u001b[1m\n",
      "\n",
      "tests/dataset_readers/ssqa_singlespan_test.py \u001b[32m.\u001b[0m\u001b[33m                          [100%]\u001b[0m\n",
      "\n",
      "\u001b[33m=============================== warnings summary ===============================\u001b[0m\n",
      "/opt/conda/lib/python3.7/site-packages/tensorflow/python/data/ops/iterator_ops.py:546\n",
      "  /opt/conda/lib/python3.7/site-packages/tensorflow/python/data/ops/iterator_ops.py:546: DeprecationWarning: Using or importing the ABCs from 'collections' instead of from 'collections.abc' is deprecated since Python 3.3,and in 3.9 it will stop working\n",
      "    class IteratorBase(collections.Iterator, trackable.Trackable,\n",
      "\n",
      "/opt/conda/lib/python3.7/site-packages/tensorflow/python/data/ops/dataset_ops.py:106\n",
      "  /opt/conda/lib/python3.7/site-packages/tensorflow/python/data/ops/dataset_ops.py:106: DeprecationWarning: Using or importing the ABCs from 'collections' instead of from 'collections.abc' is deprecated since Python 3.3,and in 3.9 it will stop working\n",
      "    class DatasetV2(collections.Iterable, tracking_base.Trackable,\n",
      "\n",
      "/opt/conda/lib/python3.7/site-packages/tensorflow/python/autograph/utils/testing.py:21\n",
      "  /opt/conda/lib/python3.7/site-packages/tensorflow/python/autograph/utils/testing.py:21: DeprecationWarning: the imp module is deprecated in favour of importlib; see the module's documentation for alternative uses\n",
      "    import imp\n",
      "\n",
      "/opt/conda/lib/python3.7/site-packages/graphql/type/directives.py:62\n",
      "  /opt/conda/lib/python3.7/site-packages/graphql/type/directives.py:62: DeprecationWarning: Using or importing the ABCs from 'collections' instead of from 'collections.abc' is deprecated since Python 3.3,and in 3.9 it will stop working\n",
      "    assert isinstance(args, collections.Mapping), '{} args must be a dict with argument names as keys.'.format(name)\n",
      "\n",
      "/opt/conda/lib/python3.7/site-packages/graphql/type/typemap.py:1\n",
      "  /opt/conda/lib/python3.7/site-packages/graphql/type/typemap.py:1: DeprecationWarning: Using or importing the ABCs from 'collections' instead of from 'collections.abc' is deprecated since Python 3.3,and in 3.9 it will stop working\n",
      "    from collections import OrderedDict, Sequence, defaultdict\n",
      "\n",
      "-- Docs: https://docs.pytest.org/en/stable/warnings.html\n",
      "\u001b[33m======================== \u001b[32m1 passed\u001b[0m, \u001b[33m\u001b[1m5 warnings\u001b[0m\u001b[33m in 7.34s\u001b[0m\u001b[33m =========================\u001b[0m\n",
      "time: 8.77 s\n"
     ]
    }
   ],
   "source": [
    "!python -m pytest tests/dataset_readers/ssqa_singlespan_test.py"
   ]
  },
  {
   "cell_type": "markdown",
   "metadata": {},
   "source": [
    "---\n",
    "## Test create answer span position"
   ]
  },
  {
   "cell_type": "code",
   "execution_count": 4,
   "metadata": {},
   "outputs": [
    {
     "name": "stdout",
     "output_type": "stream",
     "text": [
      "time: 1.71 ms\n"
     ]
    }
   ],
   "source": [
    "from allennlp.data.tokenizers import Token, PretrainedTransformerTokenizer\n"
   ]
  },
  {
   "cell_type": "code",
   "execution_count": 11,
   "metadata": {},
   "outputs": [
    {
     "ename": "TypeError",
     "evalue": "__init__() got an unexpected keyword argument 'is_pretokenized'",
     "output_type": "error",
     "traceback": [
      "\u001b[0;31m---------------------------------------------------------------------------\u001b[0m",
      "\u001b[0;31mTypeError\u001b[0m                                 Traceback (most recent call last)",
      "\u001b[0;32m<ipython-input-11-ae0dc601689d>\u001b[0m in \u001b[0;36m<module>\u001b[0;34m\u001b[0m\n\u001b[1;32m      1\u001b[0m tokenizer = PretrainedTransformerTokenizer(\n\u001b[1;32m      2\u001b[0m             \u001b[0;34m\"bert-base-chinese\"\u001b[0m\u001b[0;34m,\u001b[0m \u001b[0madd_special_tokens\u001b[0m\u001b[0;34m=\u001b[0m\u001b[0;32mFalse\u001b[0m\u001b[0;34m,\u001b[0m\u001b[0;34m\u001b[0m\u001b[0;34m\u001b[0m\u001b[0m\n\u001b[0;32m----> 3\u001b[0;31m             \u001b[0mis_pretokenized\u001b[0m\u001b[0;34m=\u001b[0m\u001b[0;32mTrue\u001b[0m\u001b[0;34m\u001b[0m\u001b[0;34m\u001b[0m\u001b[0m\n\u001b[0m\u001b[1;32m      4\u001b[0m         )\n",
      "\u001b[0;31mTypeError\u001b[0m: __init__() got an unexpected keyword argument 'is_pretokenized'"
     ]
    },
    {
     "name": "stdout",
     "output_type": "stream",
     "text": [
      "time: 18 ms\n"
     ]
    }
   ],
   "source": [
    "tokenizer = PretrainedTransformerTokenizer(\n",
    "            \"bert-base-chinese\", add_special_tokens=False,\n",
    "            is_pretokenized=True\n",
    "        )"
   ]
  },
  {
   "cell_type": "code",
   "execution_count": 14,
   "metadata": {},
   "outputs": [
    {
     "name": "stdout",
     "output_type": "stream",
     "text": [
      "time: 1.53 ms\n"
     ]
    }
   ],
   "source": [
    "tokens = tokenizer.tokenize(\"班级公约由谁来订定？\")"
   ]
  },
  {
   "cell_type": "code",
   "execution_count": 20,
   "metadata": {},
   "outputs": [
    {
     "name": "stdout",
     "output_type": "stream",
     "text": [
      "time: 970 µs\n"
     ]
    }
   ],
   "source": [
    "tokens[0].pos_"
   ]
  },
  {
   "cell_type": "code",
   "execution_count": 19,
   "metadata": {},
   "outputs": [
    {
     "data": {
      "text/plain": [
       "['__annotations__',\n",
       " '__class__',\n",
       " '__dataclass_fields__',\n",
       " '__dataclass_params__',\n",
       " '__delattr__',\n",
       " '__dir__',\n",
       " '__doc__',\n",
       " '__eq__',\n",
       " '__format__',\n",
       " '__ge__',\n",
       " '__getattribute__',\n",
       " '__gt__',\n",
       " '__hash__',\n",
       " '__init__',\n",
       " '__init_subclass__',\n",
       " '__le__',\n",
       " '__lt__',\n",
       " '__module__',\n",
       " '__ne__',\n",
       " '__new__',\n",
       " '__reduce__',\n",
       " '__reduce_ex__',\n",
       " '__repr__',\n",
       " '__setattr__',\n",
       " '__sizeof__',\n",
       " '__slots__',\n",
       " '__str__',\n",
       " '__subclasshook__',\n",
       " 'dep_',\n",
       " 'ent_type_',\n",
       " 'idx',\n",
       " 'idx_end',\n",
       " 'lemma_',\n",
       " 'pos_',\n",
       " 'tag_',\n",
       " 'text',\n",
       " 'text_id',\n",
       " 'type_id']"
      ]
     },
     "execution_count": 19,
     "metadata": {},
     "output_type": "execute_result"
    },
    {
     "name": "stdout",
     "output_type": "stream",
     "text": [
      "time: 3.41 ms\n"
     ]
    }
   ],
   "source": [
    "dir(tokens[0]"
   ]
  },
  {
   "cell_type": "code",
   "execution_count": null,
   "metadata": {},
   "outputs": [],
   "source": []
  },
  {
   "cell_type": "code",
   "execution_count": 22,
   "metadata": {},
   "outputs": [
    {
     "name": "stdout",
     "output_type": "stream",
     "text": [
      "We 0\n",
      "also 3\n",
      "support 8\n",
      "limiting 16\n",
      "the 25\n",
      "maximum 29\n",
      "length 37\n",
      "for 44\n",
      "the 48\n",
      "question 52\n",
      ". 60\n",
      "and 62\n",
      "re 66\n",
      "##ct 68\n",
      "##ang 70\n",
      "##le 73\n"
     ]
    }
   ],
   "source": [
    "context = \"We also support limiting the maximum length for the question. and rectangle\"\n",
    "\n",
    "tokenizer = PretrainedTransformerTokenizer(\"bert-base-cased\", add_special_tokens=False)\n",
    "\n",
    "def tokenize_slice(start: int, end: int) -> Iterable[Token]:\n",
    "    text_to_tokenize = context[start:end]\n",
    "    if start - 1 >= 0 and context[start - 1].isspace():\n",
    "        prefix = \"a \"  # must end in a space, and be short so we can be sure it becomes only one token\n",
    "        wordpieces = tokenizer.tokenize(prefix + text_to_tokenize)\n",
    "        for wordpiece in wordpieces:\n",
    "            if wordpiece.idx is not None:\n",
    "                wordpiece.idx -= len(prefix)\n",
    "        return wordpieces[1:]\n",
    "    else:\n",
    "        return tokenizer.tokenize(text_to_tokenize)\n",
    "\n",
    "tokenized_context = []\n",
    "token_start = 0\n",
    "for i, c in enumerate(context):\n",
    "    if c.isspace():\n",
    "        for wordpiece in tokenize_slice(token_start, i):\n",
    "            if wordpiece.idx is not None:\n",
    "                wordpiece.idx += token_start\n",
    "            tokenized_context.append(wordpiece)\n",
    "        token_start = i + 1\n",
    "for wordpiece in tokenize_slice(token_start, len(context)):\n",
    "    if wordpiece.idx is not None:\n",
    "        wordpiece.idx += token_start\n",
    "    tokenized_context.append(wordpiece)\n",
    "    \n",
    "for tok in tokenized_context:\n",
    "    print(tok, tok.idx)\n",
    "    \n",
    "# We 0\n",
    "# also 3\n",
    "# support 8\n",
    "# limiting 16\n",
    "# the 25\n",
    "# maximum 29\n",
    "# length 37\n",
    "# for 44\n",
    "# the 48\n",
    "# question 52\n",
    "# . 60\n",
    "# and 62\n",
    "# re 66\n",
    "# ##ct 68\n",
    "# ##ang 70\n",
    "# ##le 73"
   ]
  },
  {
   "cell_type": "code",
   "execution_count": 25,
   "metadata": {},
   "outputs": [
    {
     "data": {
      "text/plain": [
       "[(0, 2),\n",
       " (3, 7),\n",
       " (8, 15),\n",
       " (16, 24),\n",
       " (25, 28),\n",
       " (29, 36),\n",
       " (37, 43),\n",
       " (44, 47),\n",
       " (48, 51),\n",
       " (52, 60),\n",
       " (60, 61),\n",
       " (62, 65),\n",
       " (66, 68),\n",
       " (68, 70),\n",
       " (70, 73),\n",
       " (73, 75)]"
      ]
     },
     "execution_count": 25,
     "metadata": {},
     "output_type": "execute_result"
    }
   ],
   "source": [
    "[\n",
    "    (t.idx, t.idx + len(sanitize_wordpiece(t.text))) if t.idx is not None else None\n",
    "    for t in tokenized_context\n",
    "]\n",
    "\n",
    "# [(0, 2),\n",
    "#  (3, 7),\n",
    "#  (8, 15),\n",
    "#  (16, 24),\n",
    "#  (25, 28),\n",
    "#  (29, 36),\n",
    "#  (37, 43),\n",
    "#  (44, 47),\n",
    "#  (48, 51),\n",
    "#  (52, 60),\n",
    "#  (60, 61),\n",
    "#  (62, 65),\n",
    "#  (66, 68),\n",
    "#  (68, 70),\n",
    "#  (70, 73),\n",
    "#  (73, 75)]"
   ]
  },
  {
   "cell_type": "code",
   "execution_count": 30,
   "metadata": {},
   "outputs": [
    {
     "data": {
      "text/plain": [
       "((3, 3), True)"
      ]
     },
     "execution_count": 30,
     "metadata": {},
     "output_type": "execute_result"
    }
   ],
   "source": [
    "first_answer_offset = 16\n",
    "answers = \"limiting\"\n",
    "\n",
    "char_span_to_token_span(\n",
    "    [\n",
    "        (t.idx, t.idx + len(sanitize_wordpiece(t.text))) if t.idx is not None else None\n",
    "        for t in tokenized_context\n",
    "    ],\n",
    "    (first_answer_offset, first_answer_offset + len(answers[0])),\n",
    ")\n",
    "\n",
    "# ((3, 3), True)"
   ]
  },
  {
   "cell_type": "code",
   "execution_count": 34,
   "metadata": {},
   "outputs": [
    {
     "data": {
      "text/plain": [
       "1"
      ]
     },
     "execution_count": 34,
     "metadata": {},
     "output_type": "execute_result"
    }
   ],
   "source": [
    "len(tokenizer.sequence_pair_end_tokens)\n",
    "# 1"
   ]
  },
  {
   "cell_type": "code",
   "execution_count": null,
   "metadata": {},
   "outputs": [],
   "source": []
  }
 ],
 "metadata": {
  "kernelspec": {
   "display_name": "Python 3",
   "language": "python",
   "name": "python3"
  },
  "language_info": {
   "codemirror_mode": {
    "name": "ipython",
    "version": 3
   },
   "file_extension": ".py",
   "mimetype": "text/x-python",
   "name": "python",
   "nbconvert_exporter": "python",
   "pygments_lexer": "ipython3",
   "version": "3.7.7"
  }
 },
 "nbformat": 4,
 "nbformat_minor": 4
}
